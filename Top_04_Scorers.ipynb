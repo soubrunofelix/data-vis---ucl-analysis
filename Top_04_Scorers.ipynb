{
 "cells": [
  {
   "cell_type": "markdown",
   "id": "0a103fe8",
   "metadata": {},
   "source": [
    "# DATA FRAME TOP SCORER UEFA CHAMPIONS LEAGUE"
   ]
  },
  {
   "cell_type": "code",
   "execution_count": 1,
   "id": "f4200ddb",
   "metadata": {},
   "outputs": [],
   "source": [
    "import pandas as pd\n",
    "import numpy as np\n",
    "import requests\n",
    "from bs4 import BeautifulSoup\n",
    "import re"
   ]
  },
  {
   "cell_type": "code",
   "execution_count": 2,
   "id": "5049c7f4",
   "metadata": {},
   "outputs": [],
   "source": [
    "import ssl\n",
    "ssl._create_default_https_context = ssl._create_unverified_context"
   ]
  },
  {
   "cell_type": "code",
   "execution_count": 3,
   "id": "f3fcd793",
   "metadata": {},
   "outputs": [],
   "source": [
    "df_top_scorer = pd.read_html('https://en.wikipedia.org/wiki/List_of_UEFA_Champions_League_top_scorers')[0]"
   ]
  },
  {
   "cell_type": "code",
   "execution_count": 4,
   "id": "26e33e83",
   "metadata": {},
   "outputs": [
    {
     "data": {
      "text/html": [
       "<div>\n",
       "<style scoped>\n",
       "    .dataframe tbody tr th:only-of-type {\n",
       "        vertical-align: middle;\n",
       "    }\n",
       "\n",
       "    .dataframe tbody tr th {\n",
       "        vertical-align: top;\n",
       "    }\n",
       "\n",
       "    .dataframe thead th {\n",
       "        text-align: right;\n",
       "    }\n",
       "</style>\n",
       "<table border=\"1\" class=\"dataframe\">\n",
       "  <thead>\n",
       "    <tr style=\"text-align: right;\">\n",
       "      <th></th>\n",
       "      <th>Rank</th>\n",
       "      <th>Player</th>\n",
       "      <th>Goals</th>\n",
       "      <th>Apps</th>\n",
       "      <th>Ratio</th>\n",
       "      <th>Years</th>\n",
       "      <th>Club(s) (Goals)</th>\n",
       "    </tr>\n",
       "  </thead>\n",
       "  <tbody>\n",
       "    <tr>\n",
       "      <th>0</th>\n",
       "      <td>1</td>\n",
       "      <td>Cristiano Ronaldo</td>\n",
       "      <td>136[a]</td>\n",
       "      <td>178</td>\n",
       "      <td>0.76</td>\n",
       "      <td>2003–</td>\n",
       "      <td>Manchester United (17)Real Madrid (105)Juventu...</td>\n",
       "    </tr>\n",
       "    <tr>\n",
       "      <th>1</th>\n",
       "      <td>2</td>\n",
       "      <td>Lionel Messi</td>\n",
       "      <td>121</td>\n",
       "      <td>151</td>\n",
       "      <td>0.80</td>\n",
       "      <td>2005–</td>\n",
       "      <td>Barcelona (120)Paris Saint-Germain (1)</td>\n",
       "    </tr>\n",
       "    <tr>\n",
       "      <th>2</th>\n",
       "      <td>3</td>\n",
       "      <td>Robert Lewandowski</td>\n",
       "      <td>77</td>\n",
       "      <td>98</td>\n",
       "      <td>0.79</td>\n",
       "      <td>2011–</td>\n",
       "      <td>Borussia Dortmund (17)Bayern Munich (60)</td>\n",
       "    </tr>\n",
       "    <tr>\n",
       "      <th>3</th>\n",
       "      <td>4</td>\n",
       "      <td>Karim Benzema</td>\n",
       "      <td>72</td>\n",
       "      <td>132</td>\n",
       "      <td>0.55</td>\n",
       "      <td>2005–</td>\n",
       "      <td>Lyon (12)Real Madrid (60)</td>\n",
       "    </tr>\n",
       "    <tr>\n",
       "      <th>4</th>\n",
       "      <td>5</td>\n",
       "      <td>Raúl González</td>\n",
       "      <td>71</td>\n",
       "      <td>142</td>\n",
       "      <td>0.50</td>\n",
       "      <td>1995–2011</td>\n",
       "      <td>Real Madrid (66)Schalke 04 (5)</td>\n",
       "    </tr>\n",
       "  </tbody>\n",
       "</table>\n",
       "</div>"
      ],
      "text/plain": [
       "   Rank              Player   Goals Apps  Ratio      Years  \\\n",
       "0     1   Cristiano Ronaldo  136[a]  178   0.76      2003–   \n",
       "1     2        Lionel Messi     121  151   0.80      2005–   \n",
       "2     3  Robert Lewandowski      77   98   0.79      2011–   \n",
       "3     4       Karim Benzema      72  132   0.55      2005–   \n",
       "4     5       Raúl González      71  142   0.50  1995–2011   \n",
       "\n",
       "                                     Club(s) (Goals)  \n",
       "0  Manchester United (17)Real Madrid (105)Juventu...  \n",
       "1             Barcelona (120)Paris Saint-Germain (1)  \n",
       "2           Borussia Dortmund (17)Bayern Munich (60)  \n",
       "3                          Lyon (12)Real Madrid (60)  \n",
       "4                     Real Madrid (66)Schalke 04 (5)  "
      ]
     },
     "execution_count": 4,
     "metadata": {},
     "output_type": "execute_result"
    }
   ],
   "source": [
    "df_top_scorer.head()"
   ]
  },
  {
   "cell_type": "code",
   "execution_count": 5,
   "id": "1770deeb",
   "metadata": {},
   "outputs": [],
   "source": [
    "top_4_scorer = df_top_scorer.drop(columns=['Years', 'Club(s) (Goals)']).head(4)"
   ]
  },
  {
   "cell_type": "code",
   "execution_count": 6,
   "id": "da546b70",
   "metadata": {},
   "outputs": [],
   "source": [
    "top_4_scorer = top_4_scorer.rename(columns = {'Apps':'Matches', 'Ratio':'Goal per Match'})"
   ]
  },
  {
   "cell_type": "code",
   "execution_count": 7,
   "id": "8bacb42e",
   "metadata": {},
   "outputs": [],
   "source": [
    "top_4_scorer['Tournament Award'] = [5, 4, 1, 4]"
   ]
  },
  {
   "cell_type": "code",
   "execution_count": 8,
   "id": "34cbf783",
   "metadata": {},
   "outputs": [],
   "source": [
    "top_4_scorer['Top Scorer Award'] = [7, 6, 1, 0]"
   ]
  },
  {
   "cell_type": "code",
   "execution_count": 9,
   "id": "f59f1401",
   "metadata": {},
   "outputs": [],
   "source": [
    "top_4_scorer['Seasons Played'] = [19, 18, 11, 18]"
   ]
  },
  {
   "cell_type": "code",
   "execution_count": 10,
   "id": "7c8ae042",
   "metadata": {},
   "outputs": [],
   "source": [
    "top_4_scorer['Age'] = [36, 34, 33, 33]"
   ]
  },
  {
   "cell_type": "code",
   "execution_count": null,
   "id": "2d0b6224",
   "metadata": {},
   "outputs": [],
   "source": []
  },
  {
   "cell_type": "markdown",
   "id": "2addd6bd",
   "metadata": {},
   "source": [
    "* All time TOP SCORERS"
   ]
  },
  {
   "cell_type": "code",
   "execution_count": 11,
   "id": "99190c00",
   "metadata": {},
   "outputs": [
    {
     "data": {
      "text/html": [
       "<div>\n",
       "<style scoped>\n",
       "    .dataframe tbody tr th:only-of-type {\n",
       "        vertical-align: middle;\n",
       "    }\n",
       "\n",
       "    .dataframe tbody tr th {\n",
       "        vertical-align: top;\n",
       "    }\n",
       "\n",
       "    .dataframe thead th {\n",
       "        text-align: right;\n",
       "    }\n",
       "</style>\n",
       "<table border=\"1\" class=\"dataframe\">\n",
       "  <thead>\n",
       "    <tr style=\"text-align: right;\">\n",
       "      <th></th>\n",
       "      <th>Rank</th>\n",
       "      <th>Player</th>\n",
       "      <th>Goals</th>\n",
       "      <th>Matches</th>\n",
       "      <th>Goal per Match</th>\n",
       "      <th>Tournament Award</th>\n",
       "      <th>Top Scorer Award</th>\n",
       "      <th>Seasons Played</th>\n",
       "      <th>Age</th>\n",
       "    </tr>\n",
       "  </thead>\n",
       "  <tbody>\n",
       "    <tr>\n",
       "      <th>0</th>\n",
       "      <td>1</td>\n",
       "      <td>Cristiano Ronaldo</td>\n",
       "      <td>136[a]</td>\n",
       "      <td>178</td>\n",
       "      <td>0.76</td>\n",
       "      <td>5</td>\n",
       "      <td>7</td>\n",
       "      <td>19</td>\n",
       "      <td>36</td>\n",
       "    </tr>\n",
       "    <tr>\n",
       "      <th>1</th>\n",
       "      <td>2</td>\n",
       "      <td>Lionel Messi</td>\n",
       "      <td>121</td>\n",
       "      <td>151</td>\n",
       "      <td>0.80</td>\n",
       "      <td>4</td>\n",
       "      <td>6</td>\n",
       "      <td>18</td>\n",
       "      <td>34</td>\n",
       "    </tr>\n",
       "    <tr>\n",
       "      <th>2</th>\n",
       "      <td>3</td>\n",
       "      <td>Robert Lewandowski</td>\n",
       "      <td>77</td>\n",
       "      <td>98</td>\n",
       "      <td>0.79</td>\n",
       "      <td>1</td>\n",
       "      <td>1</td>\n",
       "      <td>11</td>\n",
       "      <td>33</td>\n",
       "    </tr>\n",
       "    <tr>\n",
       "      <th>3</th>\n",
       "      <td>4</td>\n",
       "      <td>Karim Benzema</td>\n",
       "      <td>72</td>\n",
       "      <td>132</td>\n",
       "      <td>0.55</td>\n",
       "      <td>4</td>\n",
       "      <td>0</td>\n",
       "      <td>18</td>\n",
       "      <td>33</td>\n",
       "    </tr>\n",
       "  </tbody>\n",
       "</table>\n",
       "</div>"
      ],
      "text/plain": [
       "   Rank              Player   Goals Matches  Goal per Match  Tournament Award  \\\n",
       "0     1   Cristiano Ronaldo  136[a]     178            0.76                 5   \n",
       "1     2        Lionel Messi     121     151            0.80                 4   \n",
       "2     3  Robert Lewandowski      77      98            0.79                 1   \n",
       "3     4       Karim Benzema      72     132            0.55                 4   \n",
       "\n",
       "   Top Scorer Award  Seasons Played  Age  \n",
       "0                 7              19   36  \n",
       "1                 6              18   34  \n",
       "2                 1              11   33  \n",
       "3                 0              18   33  "
      ]
     },
     "execution_count": 11,
     "metadata": {},
     "output_type": "execute_result"
    }
   ],
   "source": [
    "top_4_scorer"
   ]
  },
  {
   "cell_type": "code",
   "execution_count": 12,
   "id": "a7e1c23e",
   "metadata": {},
   "outputs": [],
   "source": [
    "top_4_scorer['Goals'] = top_4_scorer['Goals'].apply(lambda x: str(x).replace(']', '').replace('a','').replace('[', ''))"
   ]
  },
  {
   "cell_type": "code",
   "execution_count": 13,
   "id": "53095d4d",
   "metadata": {},
   "outputs": [
    {
     "data": {
      "text/html": [
       "<div>\n",
       "<style scoped>\n",
       "    .dataframe tbody tr th:only-of-type {\n",
       "        vertical-align: middle;\n",
       "    }\n",
       "\n",
       "    .dataframe tbody tr th {\n",
       "        vertical-align: top;\n",
       "    }\n",
       "\n",
       "    .dataframe thead th {\n",
       "        text-align: right;\n",
       "    }\n",
       "</style>\n",
       "<table border=\"1\" class=\"dataframe\">\n",
       "  <thead>\n",
       "    <tr style=\"text-align: right;\">\n",
       "      <th></th>\n",
       "      <th>Rank</th>\n",
       "      <th>Player</th>\n",
       "      <th>Goals</th>\n",
       "      <th>Matches</th>\n",
       "      <th>Goal per Match</th>\n",
       "      <th>Tournament Award</th>\n",
       "      <th>Top Scorer Award</th>\n",
       "      <th>Seasons Played</th>\n",
       "      <th>Age</th>\n",
       "    </tr>\n",
       "  </thead>\n",
       "  <tbody>\n",
       "    <tr>\n",
       "      <th>0</th>\n",
       "      <td>1</td>\n",
       "      <td>Cristiano Ronaldo</td>\n",
       "      <td>136</td>\n",
       "      <td>178</td>\n",
       "      <td>0.76</td>\n",
       "      <td>5</td>\n",
       "      <td>7</td>\n",
       "      <td>19</td>\n",
       "      <td>36</td>\n",
       "    </tr>\n",
       "    <tr>\n",
       "      <th>1</th>\n",
       "      <td>2</td>\n",
       "      <td>Lionel Messi</td>\n",
       "      <td>121</td>\n",
       "      <td>151</td>\n",
       "      <td>0.80</td>\n",
       "      <td>4</td>\n",
       "      <td>6</td>\n",
       "      <td>18</td>\n",
       "      <td>34</td>\n",
       "    </tr>\n",
       "    <tr>\n",
       "      <th>2</th>\n",
       "      <td>3</td>\n",
       "      <td>Robert Lewandowski</td>\n",
       "      <td>77</td>\n",
       "      <td>98</td>\n",
       "      <td>0.79</td>\n",
       "      <td>1</td>\n",
       "      <td>1</td>\n",
       "      <td>11</td>\n",
       "      <td>33</td>\n",
       "    </tr>\n",
       "    <tr>\n",
       "      <th>3</th>\n",
       "      <td>4</td>\n",
       "      <td>Karim Benzema</td>\n",
       "      <td>72</td>\n",
       "      <td>132</td>\n",
       "      <td>0.55</td>\n",
       "      <td>4</td>\n",
       "      <td>0</td>\n",
       "      <td>18</td>\n",
       "      <td>33</td>\n",
       "    </tr>\n",
       "  </tbody>\n",
       "</table>\n",
       "</div>"
      ],
      "text/plain": [
       "   Rank              Player Goals Matches  Goal per Match  Tournament Award  \\\n",
       "0     1   Cristiano Ronaldo   136     178            0.76                 5   \n",
       "1     2        Lionel Messi   121     151            0.80                 4   \n",
       "2     3  Robert Lewandowski    77      98            0.79                 1   \n",
       "3     4       Karim Benzema    72     132            0.55                 4   \n",
       "\n",
       "   Top Scorer Award  Seasons Played  Age  \n",
       "0                 7              19   36  \n",
       "1                 6              18   34  \n",
       "2                 1              11   33  \n",
       "3                 0              18   33  "
      ]
     },
     "execution_count": 13,
     "metadata": {},
     "output_type": "execute_result"
    }
   ],
   "source": [
    "top_4_scorer"
   ]
  },
  {
   "cell_type": "code",
   "execution_count": 15,
   "id": "b4757ed6",
   "metadata": {},
   "outputs": [],
   "source": [
    "top_4_scorer.to_excel('top_4_scorer.xlsx')"
   ]
  },
  {
   "cell_type": "code",
   "execution_count": null,
   "id": "edecb77f",
   "metadata": {},
   "outputs": [],
   "source": []
  }
 ],
 "metadata": {
  "kernelspec": {
   "display_name": "Python 3",
   "language": "python",
   "name": "python3"
  },
  "language_info": {
   "codemirror_mode": {
    "name": "ipython",
    "version": 3
   },
   "file_extension": ".py",
   "mimetype": "text/x-python",
   "name": "python",
   "nbconvert_exporter": "python",
   "pygments_lexer": "ipython3",
   "version": "3.8.8"
  }
 },
 "nbformat": 4,
 "nbformat_minor": 5
}
